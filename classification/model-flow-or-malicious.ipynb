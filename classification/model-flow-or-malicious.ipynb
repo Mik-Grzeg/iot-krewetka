{
 "cells": [
  {
   "cell_type": "markdown",
   "id": "e8874c96",
   "metadata": {},
   "source": [
    "Final model training"
   ]
  },
  {
   "cell_type": "code",
   "execution_count": 17,
   "id": "dcceb31c",
   "metadata": {},
   "outputs": [],
   "source": [
    "import pandas as pd\n",
    "import numpy as np\n",
    "\n",
    "from sklearn.model_selection import train_test_split\n",
    "from sklearn.tree import DecisionTreeClassifier\n",
    "from sklearn.metrics import classification_report"
   ]
  },
  {
   "cell_type": "code",
   "execution_count": 8,
   "id": "f2af9673",
   "metadata": {},
   "outputs": [
    {
     "data": {
      "text/plain": [
       "11994893"
      ]
     },
     "execution_count": 8,
     "metadata": {},
     "output_type": "execute_result"
    }
   ],
   "source": [
    "df = pd.read_csv('Datasets/Granular/NF-UQ-NIDS.csv', sep=',')\n",
    "len(df)"
   ]
  },
  {
   "cell_type": "code",
   "execution_count": 9,
   "id": "8c7c4eb3",
   "metadata": {},
   "outputs": [],
   "source": [
    "y = df.iloc[:,-3].to_numpy() #only binary, 0-normal, 1-abnormal;  [-2]-->attack specification\n",
    "X = df.drop(['IPV4_SRC_ADDR', 'IPV4_DST_ADDR', 'Label', 'Attack', 'Dataset'], axis=1).to_numpy()"
   ]
  },
  {
   "cell_type": "code",
   "execution_count": 10,
   "id": "783d5ffa",
   "metadata": {},
   "outputs": [],
   "source": [
    "X_train, X_test, y_train, y_test = train_test_split(X,y,test_size=0.3, random_state=0)"
   ]
  },
  {
   "cell_type": "code",
   "execution_count": 14,
   "id": "5b402676",
   "metadata": {},
   "outputs": [
    {
     "data": {
      "text/plain": [
       "DecisionTreeClassifier(max_depth=22, random_state=0)"
      ]
     },
     "execution_count": 14,
     "metadata": {},
     "output_type": "execute_result"
    }
   ],
   "source": [
    "classifier = DecisionTreeClassifier(random_state=0,max_depth=22)\n",
    "classifier.fit(X_train,y_train)"
   ]
  },
  {
   "cell_type": "code",
   "execution_count": 18,
   "id": "fd88e0c1",
   "metadata": {},
   "outputs": [
    {
     "data": {
      "text/plain": [
       "'              precision    recall  f1-score   support\\n\\n           0       0.99      1.00      1.00   2762496\\n           1       0.99      0.97      0.98    835972\\n\\n    accuracy                           0.99   3598468\\n   macro avg       0.99      0.99      0.99   3598468\\nweighted avg       0.99      0.99      0.99   3598468\\n'"
      ]
     },
     "execution_count": 18,
     "metadata": {},
     "output_type": "execute_result"
    }
   ],
   "source": [
    "y_pred_train = classifier.predict(X_train)\n",
    "y_pred_test = classifier.predict(X_test)"
   ]
  },
  {
   "cell_type": "code",
   "execution_count": 21,
   "id": "617cd15f",
   "metadata": {},
   "outputs": [
    {
     "name": "stdout",
     "output_type": "stream",
     "text": [
      "              precision    recall  f1-score   support\n",
      "\n",
      "           0       0.99      1.00      1.00   6445552\n",
      "           1       1.00      0.98      0.99   1950873\n",
      "\n",
      "    accuracy                           0.99   8396425\n",
      "   macro avg       1.00      0.99      0.99   8396425\n",
      "weighted avg       0.99      0.99      0.99   8396425\n",
      "\n"
     ]
    }
   ],
   "source": [
    "print(classification_report(y_train, y_pred_train))\n"
   ]
  },
  {
   "cell_type": "code",
   "execution_count": 22,
   "id": "182e7131",
   "metadata": {},
   "outputs": [
    {
     "name": "stdout",
     "output_type": "stream",
     "text": [
      "              precision    recall  f1-score   support\n",
      "\n",
      "           0       0.99      1.00      1.00   2762496\n",
      "           1       0.99      0.97      0.98    835972\n",
      "\n",
      "    accuracy                           0.99   3598468\n",
      "   macro avg       0.99      0.99      0.99   3598468\n",
      "weighted avg       0.99      0.99      0.99   3598468\n",
      "\n"
     ]
    }
   ],
   "source": [
    "print(classification_report(y_test, y_pred_test))"
   ]
  },
  {
   "cell_type": "code",
   "execution_count": 27,
   "id": "167484a4",
   "metadata": {},
   "outputs": [],
   "source": [
    "#Model object serialization:\n",
    "import pickle\n",
    "pickle.dump(classifier, open('flow-or-malicious.model', 'wb'))"
   ]
  },
  {
   "cell_type": "code",
   "execution_count": null,
   "id": "be6bec51",
   "metadata": {},
   "outputs": [],
   "source": []
  }
 ],
 "metadata": {
  "kernelspec": {
   "display_name": "Python 3 (ipykernel)",
   "language": "python",
   "name": "python3"
  },
  "language_info": {
   "codemirror_mode": {
    "name": "ipython",
    "version": 3
   },
   "file_extension": ".py",
   "mimetype": "text/x-python",
   "name": "python",
   "nbconvert_exporter": "python",
   "pygments_lexer": "ipython3",
   "version": "3.9.13"
  }
 },
 "nbformat": 4,
 "nbformat_minor": 5
}
