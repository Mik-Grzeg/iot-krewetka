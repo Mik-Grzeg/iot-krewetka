{
 "cells": [
  {
   "cell_type": "code",
   "execution_count": 1,
   "id": "804929ed",
   "metadata": {},
   "outputs": [],
   "source": [
    "import pandas as pd\n",
    "import numpy as np\n",
    "import pickle\n",
    "\n",
    "from sklearn.model_selection import train_test_split\n",
    "from sklearn.tree import DecisionTreeClassifier\n",
    "#from sklearn.metrics import classification_report"
   ]
  },
  {
   "cell_type": "code",
   "execution_count": 2,
   "id": "2199fa4c",
   "metadata": {},
   "outputs": [],
   "source": [
    "filename = 'flow-or-malicious.model'"
   ]
  },
  {
   "cell_type": "code",
   "execution_count": 3,
   "id": "57336527",
   "metadata": {},
   "outputs": [],
   "source": [
    "loaded_model = pickle.load(open(filename, 'rb'))"
   ]
  },
  {
   "cell_type": "code",
   "execution_count": 12,
   "id": "7d01d0b5",
   "metadata": {},
   "outputs": [
    {
     "name": "stdout",
     "output_type": "stream",
     "text": [
      "The mean accuracy on the given test data: 0.9929150405116844\n",
      "              precision    recall  f1-score   support\n",
      "\n",
      "           0       0.99      1.00      1.00   2762496\n",
      "           1       0.99      0.97      0.98    835972\n",
      "\n",
      "    accuracy                           0.99   3598468\n",
      "   macro avg       0.99      0.99      0.99   3598468\n",
      "weighted avg       0.99      0.99      0.99   3598468\n",
      "\n"
     ]
    }
   ],
   "source": [
    "#Test of loaded model\n",
    "#'''\n",
    "df = pd.read_csv('Datasets/Granular/NF-UQ-NIDS.csv', sep=',')\n",
    "len(df)\n",
    "y = df.iloc[:,-3].to_numpy() #only binary, 0-normal, 1-abnormal;  [-2]-->attack specification\n",
    "X = df.drop(['IPV4_SRC_ADDR', 'IPV4_DST_ADDR', 'Label', 'Attack', 'Dataset'], axis=1).to_numpy()\n",
    "X_train, X_test, y_train, y_test = train_test_split(X,y,test_size=0.3, random_state=0)\n",
    "result = loaded_model.score(X_test, y_test)\n",
    "print(\"The mean accuracy on the given test data: \" + str(result))\n",
    "print(classification_report(y_test, loaded_model.predict(X_test)))\n",
    "#'''"
   ]
  },
  {
   "cell_type": "code",
   "execution_count": 17,
   "id": "5fa61571",
   "metadata": {},
   "outputs": [
    {
     "name": "stdout",
     "output_type": "stream",
     "text": [
      "           IPV4_SRC_ADDR  L4_SRC_PORT    IPV4_DST_ADDR  L4_DST_PORT  PROTOCOL  \\\n",
      "0          149.171.126.0        62073       59.166.0.5        56082         6   \n",
      "1          149.171.126.2        32284       59.166.0.5         1526         6   \n",
      "2          149.171.126.0           21       59.166.0.1        21971         6   \n",
      "3             59.166.0.1        23800    149.171.126.0        46893         6   \n",
      "4             59.166.0.5        63062    149.171.126.2           21         6   \n",
      "...                  ...          ...              ...          ...       ...   \n",
      "11994888  192.168.100.46           80    192.168.100.5           80         6   \n",
      "11994889   192.168.100.5            0    192.168.100.3            0         6   \n",
      "11994890   192.168.100.7          365    192.168.100.3          565        17   \n",
      "11994891   192.168.100.3        50850     13.54.166.67         8883         6   \n",
      "11994892   192.168.100.6        49160  192.168.100.149         4444         6   \n",
      "\n",
      "          L7_PROTO  IN_BYTES  OUT_BYTES  IN_PKTS  OUT_PKTS  TCP_FLAGS  \\\n",
      "0            0.000      9672        416       11         8         25   \n",
      "1            0.000      1776        104        6         2         25   \n",
      "2            1.000      1842       1236       26        22         25   \n",
      "3            0.000       528       8824       10        12         27   \n",
      "4            1.000      1786       2340       32        34         25   \n",
      "...            ...       ...        ...      ...       ...        ...   \n",
      "11994888     7.000   2330065          0     2523         0          0   \n",
      "11994889     0.000   1054423          0     1513         0          0   \n",
      "11994890     0.000     62422          0     1357         0          0   \n",
      "11994891   222.178     11300       1664       32        32         24   \n",
      "11994892     0.000  40102320      37280      763       590         24   \n",
      "\n",
      "          FLOW_DURATION_MILLISECONDS  Label  Attack       Dataset  \n",
      "0                                 15      0  Benign  NF-UNSW-NB15  \n",
      "1                                  0      0  Benign  NF-UNSW-NB15  \n",
      "2                               1111      0  Benign  NF-UNSW-NB15  \n",
      "3                                124      0  Benign  NF-UNSW-NB15  \n",
      "4                               1459      0  Benign  NF-UNSW-NB15  \n",
      "...                              ...    ...     ...           ...  \n",
      "11994888                     4263037      0  Benign    NF-BoT-IoT  \n",
      "11994889                     4263062      0  Benign    NF-BoT-IoT  \n",
      "11994890                     4263062      0  Benign    NF-BoT-IoT  \n",
      "11994891                     4264935      0  Benign    NF-BoT-IoT  \n",
      "11994892                     4270068      1   Theft    NF-BoT-IoT  \n",
      "\n",
      "[11994893 rows x 15 columns]\n",
      "[[6.207300e+04 5.608200e+04 6.000000e+00 ... 8.000000e+00 2.500000e+01\n",
      "  1.500000e+01]\n",
      " [3.228400e+04 1.526000e+03 6.000000e+00 ... 2.000000e+00 2.500000e+01\n",
      "  0.000000e+00]\n",
      " [2.100000e+01 2.197100e+04 6.000000e+00 ... 2.200000e+01 2.500000e+01\n",
      "  1.111000e+03]\n",
      " ...\n",
      " [3.650000e+02 5.650000e+02 1.700000e+01 ... 0.000000e+00 0.000000e+00\n",
      "  4.263062e+06]\n",
      " [5.085000e+04 8.883000e+03 6.000000e+00 ... 3.200000e+01 2.400000e+01\n",
      "  4.264935e+06]\n",
      " [4.916000e+04 4.444000e+03 6.000000e+00 ... 5.900000e+02 2.400000e+01\n",
      "  4.270068e+06]]\n"
     ]
    }
   ],
   "source": [
    "print(df)\n",
    "print(X)"
   ]
  },
  {
   "cell_type": "markdown",
   "id": "d06688c0",
   "metadata": {},
   "source": [
    "The data is consumed from Kafka in real time - TBD"
   ]
  },
  {
   "cell_type": "code",
   "execution_count": null,
   "id": "5fbf2bc3",
   "metadata": {},
   "outputs": [],
   "source": [
    "'''\n",
    "from kafka import KafkaConsumer\n",
    "consumer = KafkaConsumer('flows', bootstrap_servers=\"krewetka:9092\")\n",
    "for msg in consumer:\n",
    "  print(msg)\n",
    "  print(msg.topic)\n",
    "'''"
   ]
  },
  {
   "cell_type": "code",
   "execution_count": 13,
   "id": "23667b00",
   "metadata": {},
   "outputs": [],
   "source": [
    "#msg structure:"
   ]
  },
  {
   "cell_type": "code",
   "execution_count": 7,
   "id": "5c322bbe",
   "metadata": {
    "scrolled": true
   },
   "outputs": [
    {
     "name": "stdout",
     "output_type": "stream",
     "text": [
      "ConsumerRecord(topic='flows', partition=0, offset=858, timestamp=1663014374452, timestamp_type=0, key=b'KREWETKA', value=b'[{\"OUT_BYTES\":366,\"OUT_PKTS\":2,\"L4_DST_PORT\":53,\"IPV4_DST_ADDR\":\"10.0.0.1\",\"IPV4_SRC_ADDR\":\"10.0.0.14\",\"PROTOCOL\":17,\"L4_SRC_PORT\":38710,\"IN_BYTES\":122,\"IN_PKTS\":2,\"L7_PROTO\":\"5.124\",\"TCP_FLAGS\":0,\"FLOW_DURATION_MILLISECONDS\":0,\"HOST\":\"PAROWA\"},{\"OUT_BYTES\":238,\"OUT_PKTS\":2,\"L4_DST_PORT\":53,\"IPV4_DST_ADDR\":\"10.0.0.1\",\"IPV4_SRC_ADDR\":\"10.0.0.14\",\"PROTOCOL\":17,\"L4_SRC_PORT\":42845,\"IN_BYTES\":160,\"IN_PKTS\":2,\"L7_PROTO\":\"5.124\",\"TCP_FLAGS\":0,\"FLOW_DURATION_MILLISECONDS\":0,\"HOST\":\"PAROWA\"},{\"OUT_BYTES\":160,\"OUT_PKTS\":2,\"L4_DST_PORT\":53,\"IPV4_DST_ADDR\":\"10.0.0.1\",\"IPV4_SRC_ADDR\":\"10.0.0.14\",\"PROTOCOL\":17,\"L4_SRC_PORT\":34582,\"IN_BYTES\":116,\"IN_PKTS\":2,\"L7_PROTO\":\"5.124\",\"TCP_FLAGS\":0,\"FLOW_DURATION_MILLISECONDS\":10,\"HOST\":\"PAROWA\"},{\"OUT_BYTES\":9560,\"OUT_PKTS\":12,\"L4_DST_PORT\":443,\"IPV4_DST_ADDR\":\"142.251.36.110\",\"IPV4_SRC_ADDR\":\"10.0.0.14\",\"PROTOCOL\":17,\"L4_SRC_PORT\":54736,\"IN_BYTES\":3941,\"IN_PKTS\":15,\"L7_PROTO\":\"188.124\",\"TCP_FLAGS\":0,\"FLOW_DURATION_MILLISECONDS\":96,\"HOST\":\"PAROWA\"},{\"OUT_BYTES\":366,\"OUT_PKTS\":2,\"L4_DST_PORT\":53,\"IPV4_DST_ADDR\":\"10.0.0.1\",\"IPV4_SRC_ADDR\":\"10.0.0.14\",\"PROTOCOL\":17,\"L4_SRC_PORT\":44185,\"IN_BYTES\":122,\"IN_PKTS\":2,\"L7_PROTO\":\"5.124\",\"TCP_FLAGS\":0,\"FLOW_DURATION_MILLISECONDS\":0,\"HOST\":\"PAROWA\"}]', headers=[('header_key', b'header_value')], checksum=None, serialized_key_size=8, serialized_value_size=1236, serialized_header_size=22)\n",
      "ConsumerRecord(topic='flows', partition=0, offset=859, timestamp=1663014374508, timestamp_type=0, key=b'KREWETKA', value=b'[{\"OUT_BYTES\":238,\"OUT_PKTS\":2,\"L4_DST_PORT\":53,\"IPV4_DST_ADDR\":\"10.0.0.1\",\"IPV4_SRC_ADDR\":\"10.0.0.14\",\"PROTOCOL\":17,\"L4_SRC_PORT\":56265,\"IN_BYTES\":160,\"IN_PKTS\":2,\"L7_PROTO\":\"5.124\",\"TCP_FLAGS\":0,\"FLOW_DURATION_MILLISECONDS\":0,\"HOST\":\"PAROWA\"},{\"OUT_BYTES\":366,\"OUT_PKTS\":2,\"L4_DST_PORT\":53,\"IPV4_DST_ADDR\":\"10.0.0.1\",\"IPV4_SRC_ADDR\":\"10.0.0.14\",\"PROTOCOL\":17,\"L4_SRC_PORT\":50854,\"IN_BYTES\":122,\"IN_PKTS\":2,\"L7_PROTO\":\"5.124\",\"TCP_FLAGS\":0,\"FLOW_DURATION_MILLISECONDS\":0,\"HOST\":\"PAROWA\"},{\"OUT_BYTES\":366,\"OUT_PKTS\":2,\"L4_DST_PORT\":53,\"IPV4_DST_ADDR\":\"10.0.0.1\",\"IPV4_SRC_ADDR\":\"10.0.0.14\",\"PROTOCOL\":17,\"L4_SRC_PORT\":57830,\"IN_BYTES\":122,\"IN_PKTS\":2,\"L7_PROTO\":\"5.124\",\"TCP_FLAGS\":0,\"FLOW_DURATION_MILLISECONDS\":0,\"HOST\":\"PAROWA\"}]', headers=[('header_key', b'header_value')], checksum=None, serialized_key_size=8, serialized_value_size=733, serialized_header_size=22)\n",
      "ConsumerRecord(topic='flows', partition=0, offset=860, timestamp=1663014374561, timestamp_type=0, key=b'KREWETKA', value=b'[{\"OUT_BYTES\":238,\"OUT_PKTS\":2,\"L4_DST_PORT\":53,\"IPV4_DST_ADDR\":\"10.0.0.1\",\"IPV4_SRC_ADDR\":\"10.0.0.14\",\"PROTOCOL\":17,\"L4_SRC_PORT\":55291,\"IN_BYTES\":160,\"IN_PKTS\":2,\"L7_PROTO\":\"5.124\",\"TCP_FLAGS\":0,\"FLOW_DURATION_MILLISECONDS\":0,\"HOST\":\"PAROWA\"}]', headers=[('header_key', b'header_value')], checksum=None, serialized_key_size=8, serialized_value_size=245, serialized_header_size=22)\n",
      "ConsumerRecord(topic='flows', partition=0, offset=861, timestamp=1663014374617, timestamp_type=0, key=b'KREWETKA', value=b'[{\"OUT_BYTES\":6218,\"OUT_PKTS\":13,\"L4_DST_PORT\":443,\"IPV4_DST_ADDR\":\"51.116.150.70\",\"IPV4_SRC_ADDR\":\"10.0.0.14\",\"PROTOCOL\":6,\"L4_SRC_PORT\":44948,\"IN_BYTES\":9840,\"IN_PKTS\":20,\"L7_PROTO\":\"91.276\",\"TCP_FLAGS\":24,\"FLOW_DURATION_MILLISECONDS\":90866,\"HOST\":\"PAROWA\"},{\"OUT_BYTES\":238,\"OUT_PKTS\":2,\"L4_DST_PORT\":53,\"IPV4_DST_ADDR\":\"10.0.0.1\",\"IPV4_SRC_ADDR\":\"10.0.0.14\",\"PROTOCOL\":17,\"L4_SRC_PORT\":35254,\"IN_BYTES\":160,\"IN_PKTS\":2,\"L7_PROTO\":\"5.124\",\"TCP_FLAGS\":0,\"FLOW_DURATION_MILLISECONDS\":0,\"HOST\":\"PAROWA\"},{\"OUT_BYTES\":17104851,\"OUT_PKTS\":12436,\"L4_DST_PORT\":443,\"IPV4_DST_ADDR\":\"176.126.58.204\",\"IPV4_SRC_ADDR\":\"10.0.0.14\",\"PROTOCOL\":17,\"L4_SRC_PORT\":33771,\"IN_BYTES\":164053,\"IN_PKTS\":1948,\"L7_PROTO\":\"188.124\",\"TCP_FLAGS\":0,\"FLOW_DURATION_MILLISECONDS\":36661,\"HOST\":\"PAROWA\"},{\"OUT_BYTES\":662,\"OUT_PKTS\":2,\"L4_DST_PORT\":53,\"IPV4_DST_ADDR\":\"10.0.0.1\",\"IPV4_SRC_ADDR\":\"10.0.0.14\",\"PROTOCOL\":17,\"L4_SRC_PORT\":39623,\"IN_BYTES\":132,\"IN_PKTS\":2,\"L7_PROTO\":\"5.276\",\"TCP_FLAGS\":0,\"FLOW_DURATION_MILLISECONDS\":11,\"HOST\":\"PAROWA\"},{\"OUT_BYTES\":113400806,\"OUT_PKTS\":76846,\"L4_DST_PORT\":80,\"IPV4_DST_ADDR\":\"151.101.14.132\",\"IPV4_SRC_ADDR\":\"10.0.0.27\",\"PROTOCOL\":6,\"L4_SRC_PORT\":42930,\"IN_BYTES\":1906946,\"IN_PKTS\":36262,\"L7_PROTO\":\"7\",\"TCP_FLAGS\":27,\"FLOW_DURATION_MILLISECONDS\":54505,\"HOST\":\"PAROWA\"}]', headers=[('header_key', b'header_value')], checksum=None, serialized_key_size=8, serialized_value_size=1289, serialized_header_size=22)\n",
      "ConsumerRecord(topic='flows', partition=0, offset=862, timestamp=1663014374671, timestamp_type=0, key=b'KREWETKA', value=b'[{\"OUT_BYTES\":366,\"OUT_PKTS\":2,\"L4_DST_PORT\":53,\"IPV4_DST_ADDR\":\"10.0.0.1\",\"IPV4_SRC_ADDR\":\"10.0.0.14\",\"PROTOCOL\":17,\"L4_SRC_PORT\":58345,\"IN_BYTES\":122,\"IN_PKTS\":2,\"L7_PROTO\":\"5.124\",\"TCP_FLAGS\":0,\"FLOW_DURATION_MILLISECONDS\":0,\"HOST\":\"PAROWA\"}]', headers=[('header_key', b'header_value')], checksum=None, serialized_key_size=8, serialized_value_size=245, serialized_header_size=22\n"
     ]
    },
    {
     "ename": "AttributeError",
     "evalue": "'str' object has no attribute 'value'",
     "output_type": "error",
     "traceback": [
      "\u001b[1;31m---------------------------------------------------------------------------\u001b[0m",
      "\u001b[1;31mAttributeError\u001b[0m                            Traceback (most recent call last)",
      "Input \u001b[1;32mIn [7]\u001b[0m, in \u001b[0;36m<cell line: 6>\u001b[1;34m()\u001b[0m\n\u001b[0;32m      4\u001b[0m \u001b[38;5;28mprint\u001b[39m(data)\n\u001b[0;32m      6\u001b[0m \u001b[38;5;28;01mfor\u001b[39;00m i \u001b[38;5;129;01min\u001b[39;00m data:\n\u001b[1;32m----> 7\u001b[0m     \u001b[38;5;28mprint\u001b[39m(\u001b[43mi\u001b[49m\u001b[38;5;241;43m.\u001b[39;49m\u001b[43mvalue\u001b[49m)\n",
      "\u001b[1;31mAttributeError\u001b[0m: 'str' object has no attribute 'value'"
     ]
    }
   ],
   "source": [
    "data = {}\n",
    "with open('krewetka.log', 'r') as file:\n",
    "    data = file.read().rstrip()\n",
    "print(data)\n",
    "\n",
    "for i in data:\n",
    "    print(i.value)\n",
    "    #print(\"breakpoint\")"
   ]
  }
 ],
 "metadata": {
  "kernelspec": {
   "display_name": "Python 3 (ipykernel)",
   "language": "python",
   "name": "python3"
  },
  "language_info": {
   "codemirror_mode": {
    "name": "ipython",
    "version": 3
   },
   "file_extension": ".py",
   "mimetype": "text/x-python",
   "name": "python",
   "nbconvert_exporter": "python",
   "pygments_lexer": "ipython3",
   "version": "3.9.13"
  }
 },
 "nbformat": 4,
 "nbformat_minor": 5
}
